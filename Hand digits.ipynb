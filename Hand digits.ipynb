{
 "cells": [
  {
   "cell_type": "code",
   "execution_count": 1,
   "metadata": {},
   "outputs": [
    {
     "name": "stdout",
     "output_type": "stream",
     "text": [
      "Cost at epoch 0: 9.2069\n",
      "Cost at epoch 5000: 1.4802\n",
      "Cost at epoch 10000: 0.6787\n",
      "Cost at epoch 15000: 0.4619\n",
      "Cost at epoch 20000: 0.3411\n",
      "Accuracy for train set: 97.5 %\n"
     ]
    }
   ],
   "source": [
    "from Hand_digits import *"
   ]
  },
  {
   "cell_type": "code",
   "execution_count": 9,
   "metadata": {},
   "outputs": [
    {
     "data": {
      "image/png": "[encoded data removed]",
      "text/plain": [
       "<matplotlib.figure.Figure at 0x11391e080>"
      ]
     },
     "metadata": {},
     "output_type": "display_data"
    },
    {
     "name": "stdout",
     "output_type": "stream",
     "text": [
      "Picture is a 9!\n"
     ]
    }
   ],
   "source": [
    "from matplotlib.image import imread\n",
    "\n",
    "def predict_image(image, params):\n",
    "\n",
    "    img = image[:, :, 0] * 10\n",
    "    img = img.reshape(64, 1)\n",
    "\n",
    "    a_final, _ = forward_prop(img, params)\n",
    "    res = from_array_to_onehot(a_final)\n",
    "    \n",
    "    plt.imshow(image)\n",
    "    plt.show()\n",
    "\n",
    "    print('Picture is a {}!'.format(np.argmax(res)))\n",
    "    \n",
    "\n",
    "image = imread('/Users/andrea/Desktop/prova8.png')\n",
    "predict_image(image, parameters)"
   ]
  },
  {
   "cell_type": "code",
   "execution_count": null,
   "metadata": {
    "collapsed": true
   },
   "outputs": [],
   "source": []
  }
 ],
 "metadata": {
  "kernelspec": {
   "display_name": "Python 3",
   "language": "python",
   "name": "python3"
  },
  "language_info": {
   "codemirror_mode": {
    "name": "ipython",
    "version": 3
   },
   "file_extension": ".py",
   "mimetype": "text/x-python",
   "name": "python",
   "nbconvert_exporter": "python",
   "pygments_lexer": "ipython3",
   "version": "3.6.1"
  }
 },
 "nbformat": 4,
 "nbformat_minor": 2
}
