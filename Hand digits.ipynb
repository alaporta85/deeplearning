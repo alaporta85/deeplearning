{
 "cells": [
  {
   "cell_type": "code",
   "execution_count": 1,
   "metadata": {},
   "outputs": [
    {
     "name": "stdout",
     "output_type": "stream",
     "text": [
      "Cost at epoch 0: 4.6072\n",
      "Cost at epoch 5000: 1.3619\n",
      "Cost at epoch 10000: 0.3633\n",
      "Cost at epoch 15000: 0.1952\n",
      "Cost at epoch 20000: 0.1233\n",
      "Accuracy for train set: 99.0 %\n"
     ]
    }
   ],
   "source": [
    "from matplotlib.image import imread\n",
    "from Hand_digits import *"
   ]
  },
  {
   "cell_type": "code",
   "execution_count": 5,
   "metadata": {},
   "outputs": [
    {
     "data": {
      "image/png": "[encoded data removed]",
      "text/plain": [
       "<matplotlib.figure.Figure at 0x10f1b65f8>"
      ]
     },
     "metadata": {},
     "output_type": "display_data"
    },
    {
     "name": "stdout",
     "output_type": "stream",
     "text": [
      "Picture is a 4!\n"
     ]
    }
   ],
   "source": [
    "image = imread('/Users/andrea/Desktop/prova4.png')\n",
    "plt.imshow(image)\n",
    "plt.show()\n",
    "predict_image(image, parameters)"
   ]
  }
 ],
 "metadata": {
  "kernelspec": {
   "display_name": "Python 3",
   "language": "python",
   "name": "python3"
  },
  "language_info": {
   "codemirror_mode": {
    "name": "ipython",
    "version": 3
   },
   "file_extension": ".py",
   "mimetype": "text/x-python",
   "name": "python",
   "nbconvert_exporter": "python",
   "pygments_lexer": "ipython3",
   "version": "3.6.1"
  }
 },
 "nbformat": 4,
 "nbformat_minor": 2
}
